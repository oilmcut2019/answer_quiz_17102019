{
 "cells": [
  {
   "cell_type": "markdown",
   "metadata": {
    "collapsed": true
   },
   "source": [
    "Question_3\n",
    "\n",
    "英文: The keyboard enters two sets of four-digit integers, prints the number of integers with the same number and the same number + \"A\", and the number with the same number but the wrong number of bits + \"B\".\n",
    "<br>\n",
    "中文: 鍵盤輸入兩組四位數的整數，印出整數位數相同且數字也相同的數量+\"A\"，以及有相同數字但位數不對的數量+\"B\"。\n",
    "\n",
    "\n",
    "Input    | Output |\n",
    "---------|--------|\n",
    "1234     |2A2B    |\n",
    "1243     |"
   ]
  },
  {
   "cell_type": "code",
   "execution_count": 1,
   "metadata": {
    "ExecuteTime": {
     "end_time": "2019-10-30T15:18:39.898207Z",
     "start_time": "2019-10-30T15:18:36.058502Z"
    }
   },
   "outputs": [
    {
     "name": "stdout",
     "output_type": "stream",
     "text": [
      "1234\n",
      "1243\n",
      "2A2B\n"
     ]
    }
   ],
   "source": [
    "x=int(input())\n",
    "y=int(input())\n",
    "a,b,c,d=str(x//1000),str((x//100)%10),str((x//10)%10),str(x%10)\n",
    "e,f,g,h=str(y//1000),str((y//100)%10),str((y//10)%10),str(y%10)\n",
    "x=str(x)\n",
    "z=int(a==e) + int(b==f) + int(c==g) + int(d==h)\n",
    "a=int(e in x)+int(f in x)+int(g in x)+int(h in x)-z\n",
    "print(str(z)+\"A\"+str(a)+\"B\")"
   ]
  }
 ],
 "metadata": {
  "kernelspec": {
   "display_name": "Python 3",
   "language": "python",
   "name": "python3"
  },
  "language_info": {
   "codemirror_mode": {
    "name": "ipython",
    "version": 3
   },
   "file_extension": ".py",
   "mimetype": "text/x-python",
   "name": "python",
   "nbconvert_exporter": "python",
   "pygments_lexer": "ipython3",
   "version": "3.7.3"
  },
  "nbTranslate": {
   "displayLangs": [
    "*"
   ],
   "hotkey": "alt-t",
   "langInMainMenu": true,
   "sourceLang": "en",
   "targetLang": "fr",
   "useGoogleTranslate": true
  },
  "toc": {
   "base_numbering": 1,
   "nav_menu": {},
   "number_sections": true,
   "sideBar": true,
   "skip_h1_title": false,
   "title_cell": "Table of Contents",
   "title_sidebar": "Contents",
   "toc_cell": false,
   "toc_position": {},
   "toc_section_display": true,
   "toc_window_display": false
  },
  "varInspector": {
   "cols": {
    "lenName": 16,
    "lenType": 16,
    "lenVar": 40
   },
   "kernels_config": {
    "python": {
     "delete_cmd_postfix": "",
     "delete_cmd_prefix": "del ",
     "library": "var_list.py",
     "varRefreshCmd": "print(var_dic_list())"
    },
    "r": {
     "delete_cmd_postfix": ") ",
     "delete_cmd_prefix": "rm(",
     "library": "var_list.r",
     "varRefreshCmd": "cat(var_dic_list()) "
    }
   },
   "types_to_exclude": [
    "module",
    "function",
    "builtin_function_or_method",
    "instance",
    "_Feature"
   ],
   "window_display": false
  }
 },
 "nbformat": 4,
 "nbformat_minor": 2
}
